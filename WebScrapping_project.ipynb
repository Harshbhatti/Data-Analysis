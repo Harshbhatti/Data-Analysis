{
 "cells": [
  {
   "cell_type": "markdown",
   "id": "bd91f060",
   "metadata": {},
   "source": [
    "# Web Scrapping Project"
   ]
  },
  {
   "cell_type": "code",
   "execution_count": null,
   "id": "8cef9eb6",
   "metadata": {},
   "outputs": [],
   "source": [
    "import bs4\n",
    "import requests\n",
    "import re"
   ]
  },
  {
   "cell_type": "code",
   "execution_count": null,
   "id": "cbd85cd9",
   "metadata": {},
   "outputs": [],
   "source": [
    "url=\"https://www.tgcindia.com/blog/\"\n",
    "data=requests.get(url)"
   ]
  },
  {
   "cell_type": "code",
   "execution_count": null,
   "id": "f80c6e0a",
   "metadata": {},
   "outputs": [],
   "source": [
    "soup=bs4.BeautifulSoup(data.text,'html.parser')"
   ]
  },
  {
   "cell_type": "code",
   "execution_count": null,
   "id": "7b0180ce",
   "metadata": {},
   "outputs": [
    {
     "name": "stdout",
     "output_type": "stream",
     "text": [
      "-------------------------------------------\n",
      "*****WELCOME TO WEB SCRAPPING SYSTEM*****\n",
      "--------------------------------------------\n",
      "please choose any one option:\n",
      "1.scrape Paragraph\n",
      "2.scrape Headlines\n",
      "3.scrape Weblinks\n",
      "4.scrape Image\n",
      "5.Exit\n",
      "\n",
      "Enter your choose :1\n",
      "\n",
      "Paragraph File Created\n",
      "please choose any one option:\n",
      "1.scrape Paragraph\n",
      "2.scrape Headlines\n",
      "3.scrape Weblinks\n",
      "4.scrape Image\n",
      "5.Exit\n",
      "\n",
      "Enter your choose :2\n",
      "Headline File Created\n",
      "please choose any one option:\n",
      "1.scrape Paragraph\n",
      "2.scrape Headlines\n",
      "3.scrape Weblinks\n",
      "4.scrape Image\n",
      "5.Exit\n",
      "\n",
      "Enter your choose :3\n",
      "Weblink File Created\n",
      "please choose any one option:\n",
      "1.scrape Paragraph\n",
      "2.scrape Headlines\n",
      "3.scrape Weblinks\n",
      "4.scrape Image\n",
      "5.Exit\n",
      "\n",
      "Enter your choose :4\n",
      "Image File Created\n",
      "please choose any one option:\n",
      "1.scrape Paragraph\n",
      "2.scrape Headlines\n",
      "3.scrape Weblinks\n",
      "4.scrape Image\n",
      "5.Exit\n",
      "\n",
      "Enter your choose :5\n",
      "please choose any one option:\n",
      "1.scrape Paragraph\n",
      "2.scrape Headlines\n",
      "3.scrape Weblinks\n",
      "4.scrape Image\n",
      "5.Exit\n",
      "\n"
     ]
    }
   ],
   "source": [
    "print(\"-------------------------------------------\")\n",
    "print(\"*****WELCOME TO WEB SCRAPPING SYSTEM*****\")\n",
    "print(\"--------------------------------------------\")\n",
    "\n",
    "def para_file():\n",
    "    extract_para=open(\"para.txt\",'w',encoding='utf-8')\n",
    "    for para in soup.findAll('p'):\n",
    "        extract_para.write('\\n')\n",
    "        extract_para.write(para.text)\n",
    "    print()\n",
    "    print(\"Paragraph File Created\")\n",
    "    \n",
    "def headline_file():\n",
    "    headline_file=open(\"headline.txt\",'w',encoding='utf-8')\n",
    "    for headline in soup.findAll('h3'):\n",
    "        headline_file.write('\\n\\n')\n",
    "        headline_file.write(headline.text)\n",
    "    print('Headline File Created')\n",
    "        \n",
    "def weblink_file():\n",
    "    weblink_file=open('weblink.txt','w')\n",
    "    for link in soup.find_all('a',attrs={'href':re.compile(\"https://\")}):\n",
    "        weblink=link.get('href')\n",
    "        weblink_file.write(weblink)\n",
    "    print(\"Weblink File Created\")\n",
    "    \n",
    "def img_file():\n",
    "    img_file=open('image.txt','w')\n",
    "    for images in soup.find_all('img'):\n",
    "        images.append(images.get('src'))\n",
    "        img_file.write('\\n')\n",
    "        img_file.write(images.text)\n",
    "    print(\"Image File Created\")\n",
    "    \n",
    "while(True):\n",
    "    print(\"please choose any one option:\")\n",
    "    print(\"1.scrape Paragraph\")\n",
    "    print(\"2.scrape Headlines\")\n",
    "    print(\"3.scrape Weblinks\")\n",
    "    print('4.scrape Image')\n",
    "    print(\"5.Exit\")\n",
    "    \n",
    "    print()\n",
    "    ch=int(input('Enter your choose :'))\n",
    "    if ch==1:\n",
    "        para_file()\n",
    "        \n",
    "    elif ch==2:\n",
    "        headline_file()\n",
    "        \n",
    "    elif ch==3:\n",
    "        weblink_file()\n",
    "    \n",
    "    elif ch==4:\n",
    "        img_file()\n",
    "        \n",
    "    elif ch==5:\n",
    "        exit()\n",
    "        \n",
    "    else:\n",
    "        print('Wrong Entry')\n",
    "        exit()"
   ]
  },
  {
   "cell_type": "code",
   "execution_count": null,
   "id": "e4a3554d",
   "metadata": {},
   "outputs": [],
   "source": []
  },
  {
   "cell_type": "code",
   "execution_count": null,
   "id": "6284eb9f",
   "metadata": {},
   "outputs": [],
   "source": []
  }
 ],
 "metadata": {
  "kernelspec": {
   "display_name": "Python 3 (ipykernel)",
   "language": "python",
   "name": "python3"
  },
  "language_info": {
   "codemirror_mode": {
    "name": "ipython",
    "version": 3
   },
   "file_extension": ".py",
   "mimetype": "text/x-python",
   "name": "python",
   "nbconvert_exporter": "python",
   "pygments_lexer": "ipython3",
   "version": "3.9.7"
  }
 },
 "nbformat": 4,
 "nbformat_minor": 5
}
