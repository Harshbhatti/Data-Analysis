{
 "cells": [
  {
   "cell_type": "code",
   "execution_count": 35,
   "id": "d85a3b33",
   "metadata": {},
   "outputs": [],
   "source": [
    "# https://newsapi.org[first login & get api code]"
   ]
  },
  {
   "cell_type": "code",
   "execution_count": 36,
   "id": "bfdd562d",
   "metadata": {},
   "outputs": [],
   "source": [
    "import urllib.request as urlr\n",
    "req='https://newsapi.org/v2/top-headlines?country=in&category=entertainment&apiKey=5095b78ca3824bf3a4fc3bbbfda29e55'"
   ]
  },
  {
   "cell_type": "code",
   "execution_count": 37,
   "id": "02a11ae8",
   "metadata": {},
   "outputs": [],
   "source": [
    "raw=urlr.urlopen(req)"
   ]
  },
  {
   "cell_type": "code",
   "execution_count": 38,
   "id": "766509b0",
   "metadata": {},
   "outputs": [],
   "source": [
    "import json"
   ]
  },
  {
   "cell_type": "code",
   "execution_count": 39,
   "id": "47180b7d",
   "metadata": {},
   "outputs": [
    {
     "name": "stdout",
     "output_type": "stream",
     "text": [
      "Ravi Teja’s reply to Chiranjeevi wins netizens’ hearts - 123telugu\n"
     ]
    }
   ],
   "source": [
    "myjson=raw.read()\n",
    "data=json.loads(myjson.decode()) # decode() converts json data format to string data format\n",
    "print(data['articles'][0]['title']) # json.Load()accept only string data format"
   ]
  },
  {
   "cell_type": "code",
   "execution_count": 40,
   "id": "03ada7bb",
   "metadata": {},
   "outputs": [
    {
     "name": "stdout",
     "output_type": "stream",
     "text": [
      "Headline1 is :\n",
      "Ravi Teja’s reply to Chiranjeevi wins netizens’ hearts - 123telugu\n",
      "Headline2 is :\n",
      "Big Trolling On Pawan Kalyan And Bala Krishna - Greatandhra\n",
      "Headline3 is :\n",
      "SSR Case: Person Who Conducted Sushant Singh Rajput's Autopsy Speaks To Arnab - Republic World\n",
      "Headline4 is :\n",
      "Star director confirms he’s acting in Lokesh Kanagaraj’s next - 123telugu\n",
      "Headline5 is :\n",
      "Malaika Arora, Amrita Arora fight in Goa restaurant on girls' trip - Hindustan Times\n"
     ]
    }
   ],
   "source": [
    "for i in range(0,5):\n",
    "    print('Headline'+str(i+1)+' is :')\n",
    "    print(data['articles'][i]['title'])"
   ]
  },
  {
   "cell_type": "code",
   "execution_count": 41,
   "id": "0611fa9c",
   "metadata": {},
   "outputs": [
    {
     "name": "stdout",
     "output_type": "stream",
     "text": [
      "Description1is:\n",
      "Telugu cinema news, Telugu Movies Updates, Latest Movie reviews in Telugu, Telugu cinema reviews, telugu movie reviews, Tollywood, Box office collections, Telugu Movie show times, Theater List, telugu cinema tickets\n",
      "\n",
      "Content is:\n",
      "Megastar Chiranjeevi and Mass Maharaja will be seen together one more time on the big screen. It will be a treat to see the star heroes in one frame and that too in the most-awaited movie, Waltair Ve… [+1009 chars]\n",
      "\n",
      "Description2is:\n",
      "Trollers are not leaving any opportunity to play with Pawan Kalyan and Balakrihna.\n",
      "\n",
      "Content is:\n",
      "Trollers are not leaving any opportunity to play with Pawan Kalyan and Balakrihna. It is known that the duo is coming together on Unstoppable2 show.\r\n",
      "The trollers are guessing some questions by Balak… [+980 chars]\n",
      "\n",
      "Description3is:\n",
      "#RepublicTV SSR Case: Person Who Conducted Sushant Singh Rajput's Autopsy Speaks To ArnabSubscribe to Republic TV & press THE BELL ICON to be updated with th...\n",
      "\n",
      "Content is:\n",
      "None\n",
      "\n",
      "Description4is:\n",
      "Telugu cinema news, Telugu Movies Updates, Latest Movie reviews in Telugu, Telugu cinema reviews, telugu movie reviews, Tollywood, Box office collections, Telugu Movie show times, Theater List, telugu cinema tickets\n",
      "\n",
      "Content is:\n",
      "Star director/actor Vasudev Menon is a busy man now. He is directing films and also acting simultaneously. \r\n",
      "In his latest media interaction, the happening director confirmed that hes a part of young… [+465 chars]\n",
      "\n",
      "Description5is:\n",
      "Malaika Arora was seen with sister Amrita Arora in the latest episode of her show Moving In With Malaika. The two were on a Goa holiday, when Malaika lost her phone at a restaurant. | Bollywood\n",
      "\n",
      "Content is:\n",
      "Malaika Arora and Amrita Arora have been airing out their issues with each other on Moving In With Malaika. The two have fought over Malaika's stand-up comedy on the show, where she had compared hers… [+2193 chars]\n",
      "\n"
     ]
    }
   ],
   "source": [
    "for i in range(0,5):\n",
    "    print('Description'+str(i+1)+'is:')\n",
    "    print(data['articles'][i]['description'])\n",
    "    print('\\nContent is:')\n",
    "    print(data['articles'][i]['content'])\n",
    "    print()"
   ]
  },
  {
   "cell_type": "markdown",
   "id": "905070dc",
   "metadata": {},
   "source": [
    "# How to Store Data in Text file using File :-"
   ]
  },
  {
   "cell_type": "code",
   "execution_count": 42,
   "id": "f07dd659",
   "metadata": {},
   "outputs": [],
   "source": [
    "for i in range(len(data['articles'])):\n",
    "    obj=open('data1.text','a')\n",
    "    res='\\nHedline'+str(i+1)+'is:'\n",
    "    obj.write(res)\n",
    "    res='\\n'+data['articles'][i]['title']+'\\n'\n",
    "    obj.write(res)"
   ]
  },
  {
   "cell_type": "code",
   "execution_count": 43,
   "id": "dac28ae8",
   "metadata": {},
   "outputs": [],
   "source": [
    "for i in range(len(data['articles'])):\n",
    "    obj=open('data2.txt','a')\n",
    "    res=data['articles'][i]['description']\n",
    "    if(res!=None):\n",
    "        obj.write(res+'\\n')"
   ]
  },
  {
   "cell_type": "code",
   "execution_count": 44,
   "id": "0e41b8e1",
   "metadata": {},
   "outputs": [],
   "source": [
    "for i in range(len(data['articles'])):\n",
    "    obj=open('data2.txt','a')\n",
    "    res=data['articles'][i]['urlToImage']\n",
    "    if(res!=None):\n",
    "        obj.write(res+'\\n')"
   ]
  },
  {
   "cell_type": "code",
   "execution_count": 45,
   "id": "319fa886",
   "metadata": {},
   "outputs": [],
   "source": [
    "for i in range(len(data['articles'])):\n",
    "    obj=open('data4.txt','a')\n",
    "    res='\\nUrl_Image'+str(i+1)+'is:\\n'\n",
    "    obj.write(res)\n",
    "    res=data['articles'][i]['url']\n",
    "    if(res!=None):\n",
    "        obj.write(res+'\\n')"
   ]
  },
  {
   "cell_type": "code",
   "execution_count": 46,
   "id": "edc80621",
   "metadata": {},
   "outputs": [],
   "source": [
    "for i in range (len(data['articles'])):\n",
    "    obj=open('data4.txt','a')\n",
    "    res='\\nURL'+str(i+1)+'is :\\n'\n",
    "    obj.write(res)\n",
    "    res=data['articles'][i]['url']\n",
    "    if(res!=None):\n",
    "        obj.write(res+'\\n')"
   ]
  },
  {
   "cell_type": "code",
   "execution_count": null,
   "id": "33f6e136",
   "metadata": {},
   "outputs": [],
   "source": []
  }
 ],
 "metadata": {
  "kernelspec": {
   "display_name": "Python 3 (ipykernel)",
   "language": "python",
   "name": "python3"
  },
  "language_info": {
   "codemirror_mode": {
    "name": "ipython",
    "version": 3
   },
   "file_extension": ".py",
   "mimetype": "text/x-python",
   "name": "python",
   "nbconvert_exporter": "python",
   "pygments_lexer": "ipython3",
   "version": "3.9.7"
  }
 },
 "nbformat": 4,
 "nbformat_minor": 5
}
